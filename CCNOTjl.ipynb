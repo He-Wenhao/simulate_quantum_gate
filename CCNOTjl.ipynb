{
 "cells": [
  {
   "cell_type": "code",
   "execution_count": 1,
   "metadata": {},
   "outputs": [],
   "source": [
    "#import Pkg; \n",
    "#Pkg.add(\"ITensors\")\n",
    "#Pkg.add(\"Combinatorics\")"
   ]
  },
  {
   "cell_type": "code",
   "execution_count": 2,
   "metadata": {},
   "outputs": [],
   "source": [
    "using ITensors\n",
    "using Combinatorics\n",
    "using IterTools: product\n",
    "using CSV, DataFrames"
   ]
  },
  {
   "cell_type": "code",
   "execution_count": 3,
   "metadata": {},
   "outputs": [
    {
     "data": {
      "text/plain": [
       "1.0"
      ]
     },
     "metadata": {},
     "output_type": "display_data"
    }
   ],
   "source": [
    "CCNOT_mat = zeros(2,2,2,2,2,2)\n",
    "for i in 1:2\n",
    "    for j in 1:2\n",
    "        for k in 1:2\n",
    "            CCNOT_mat[i,j,k,i,j,k] = 1.0\n",
    "        end\n",
    "    end\n",
    "end\n",
    "\n",
    "CCNOT_mat[2,2,2,2,2,2] = 0.\n",
    "CCNOT_mat[2,2,1,2,2,1] = 0.\n",
    "CCNOT_mat[2,2,1,2,2,2] = 1.\n",
    "CCNOT_mat[2,2,2,2,2,1] = 1."
   ]
  },
  {
   "cell_type": "code",
   "execution_count": 4,
   "metadata": {},
   "outputs": [
    {
     "data": {
      "text/plain": [
       "(dim=2|id=64|\"l3\")"
      ]
     },
     "metadata": {},
     "output_type": "display_data"
    }
   ],
   "source": [
    "\n",
    "i1 = Index(2, \"i1\")\n",
    "i2 = Index(2, \"i2\")\n",
    "i3 = Index(2, \"i3\")\n",
    "j1 = Index(2, \"j1\")\n",
    "j2 = Index(2, \"j2\")\n",
    "j3 = Index(2, \"j3\")\n",
    "k1 = Index(2, \"k1\")\n",
    "k2 = Index(2, \"k2\")\n",
    "k3 = Index(2, \"k3\")\n",
    "l1 = Index(2, \"l1\")\n",
    "l2 = Index(2, \"l2\")\n",
    "l3 = Index(2, \"l3\")"
   ]
  },
  {
   "cell_type": "code",
   "execution_count": 5,
   "metadata": {},
   "outputs": [
    {
     "data": {
      "text/plain": [
       "tags_l (generic function with 1 method)"
      ]
     },
     "metadata": {},
     "output_type": "display_data"
    }
   ],
   "source": [
    "function tags_l(t)\n",
    "    return [tags(i) for i in t]\n",
    "end"
   ]
  },
  {
   "cell_type": "code",
   "execution_count": 6,
   "metadata": {},
   "outputs": [
    {
     "data": {
      "text/plain": [
       "true_val (generic function with 1 method)"
      ]
     },
     "metadata": {},
     "output_type": "display_data"
    }
   ],
   "source": [
    "function true_val(input_ind,dag_input_ind,dag_input_val,con_input_ind,con_input_val,output_ind,dag_output_ind)\n",
    "    A = ITensor(CCNOT_mat,i1,i2,i3,j1,j2,j3)\n",
    "    B = ITensor(CCNOT_mat,k1,k2,k3,l1,l2,l3)\n",
    "\n",
    "    con_list = [delta(con_input_ind[i],con_input_val[i]) for i in 1:length(con_input_ind)]\n",
    "    dagin_list = [onehot(dag_input_ind[i]=>dag_input_val[i]) for i in 1:length(dag_input_ind)]\n",
    "    dagout_list = [ITensor([1. 1.],i) for i in dag_output_ind]\n",
    "\n",
    "    # Contract the tensors over the common indices\n",
    "    # and visualize the results\n",
    "    AB = A * B * prod(dagin_list) * prod(con_list)  * prod(dagout_list) *onehot(output_ind=>2);\n",
    "    AB = Array(AB,input_ind[1],input_ind[2]);\n",
    "    AB = reshape(AB,4);\n",
    "    return transpose(AB)\n",
    "end"
   ]
  },
  {
   "cell_type": "code",
   "execution_count": 7,
   "metadata": {},
   "outputs": [
    {
     "name": "stdout",
     "output_type": "stream",
     "text": [
      "Data written to output_results.csv\n"
     ]
    }
   ],
   "source": [
    "df = DataFrame(input_ind=[], dag_input_ind=[], dag_input_val=[], con_input_ind=[], con_input_val=[], output_ind=[], dag_output_ind=[], tv=[])\n",
    "\n",
    "for con_input_ind in collect(combinations([k1,k2,k3]))\n",
    "    for subset in collect(combinations([j1,j2,j3],length(con_input_ind)))\n",
    "        for con_input_val in collect(permutations(subset)) \n",
    "            for input_ind in collect(combinations(setdiff([i1,i2,i3,k1,k2,k3],con_input_ind),2))\n",
    "                dag_input_ind = setdiff(setdiff([i1,i2,i3,k1,k2,k3],input_ind),con_input_ind)\n",
    "                for dag_input_val in [collect(t) for t in product(repeat([[1, 2]], length(dag_input_ind))...)]\n",
    "                    for output_ind in setdiff([j1,j2,j3,l1,l2,l3],con_input_val)\n",
    "                        dag_output_ind = setdiff(setdiff([j1,j2,j3,l1,l2,l3],[output_ind]),con_input_val)\n",
    "                        tv = true_val(input_ind,dag_input_ind,dag_input_val,con_input_ind,con_input_val,output_ind,dag_output_ind);\n",
    "                        push!(df, (tags_l(input_ind), tags_l(dag_input_ind), dag_input_val, tags_l(con_input_ind), tags_l(con_input_val), tags(output_ind), tags_l(dag_output_ind), tv))\n",
    "                        #@show tags_l(input_ind)\n",
    "                    end\n",
    "                end\n",
    "            end\n",
    "        end\n",
    "    end\n",
    "end\n",
    "\n",
    "# Write the DataFrame to a CSV file\n",
    "CSV.write(\"output_results.csv\", df)\n",
    "\n",
    "println(\"Data written to output_results.csv\")"
   ]
  },
  {
   "cell_type": "code",
   "execution_count": 8,
   "metadata": {},
   "outputs": [
    {
     "data": {
      "text/plain": [
       "1×4 transpose(::Vector{Float64}) with eltype Float64:\n",
       " 0.0  0.0  0.0  0.0"
      ]
     },
     "metadata": {},
     "output_type": "display_data"
    }
   ],
   "source": [
    "\n",
    "input_ind = [i1,i2]\n",
    "dag_input_ind = [i3]\n",
    "dag_input_val = [1]\n",
    "con_input_ind = [k1,k2,k3]\n",
    "con_input_val = [j1,j2,j3]\n",
    "\n",
    "ouput_ind = l3\n",
    "dag_output_ind = [l1,l2]\n",
    "\n",
    "true_val(input_ind,dag_input_ind,dag_input_val,con_input_ind,con_input_val,ouput_ind,dag_output_ind)"
   ]
  },
  {
   "cell_type": "code",
   "execution_count": 9,
   "metadata": {},
   "outputs": [
    {
     "data": {
      "text/plain": [
       "\"TagSet[\\\"i3\\\"]\""
      ]
     },
     "metadata": {},
     "output_type": "display_data"
    }
   ],
   "source": [
    "string(tags_l(dag_input_ind))"
   ]
  }
 ],
 "metadata": {
  "kernelspec": {
   "display_name": "Julia 1.6.5",
   "language": "julia",
   "name": "julia-1.6"
  },
  "language_info": {
   "file_extension": ".jl",
   "mimetype": "application/julia",
   "name": "julia",
   "version": "1.6.5"
  }
 },
 "nbformat": 4,
 "nbformat_minor": 2
}
